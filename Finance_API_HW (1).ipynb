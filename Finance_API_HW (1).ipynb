{
  "nbformat": 4,
  "nbformat_minor": 0,
  "metadata": {
    "colab": {
      "provenance": []
    },
    "kernelspec": {
      "name": "python3",
      "display_name": "Python 3"
    },
    "language_info": {
      "name": "python"
    }
  },
  "cells": [
    {
      "cell_type": "code",
      "execution_count": null,
      "metadata": {
        "id": "JjoSIqALU7KJ"
      },
      "outputs": [],
      "source": [
        "import requests\n",
        "import pandas as pd\n",
        "import json\n",
        "\n",
        "def get_stock_data(symbols, api_key):\n",
        "    stock_data = []\n",
        "    for symbol in symbols:\n",
        "        url = f\"https://yfapi.net/v6/finance/quote?symbols={symbol}\"\n",
        "        headers = {\"x-api-key\": api_key}\n",
        "        response = requests.get(url, headers=headers).json()\n",
        "        quote = response.get(\"quoteResponse\", {}).get(\"result\", [{}])[0]\n",
        "        stock_data.append({\n",
        "            'Stock Ticker': symbol,\n",
        "            'Company': quote.get('longName', 'Unavailable'),\n",
        "            'Current Market Price': quote.get('regularMarketPrice', 'Unavailable')\n",
        "        })\n",
        "    return stock_data\n",
        "\n",
        "def get_additional_data(symbol, module, api_key):\n",
        "    url = f\"https://yfapi.net/v11/finance/quoteSummary/{symbol}?modules={module}\"\n",
        "    headers = {\"x-api-key\": api_key}\n",
        "    response = requests.get(url, headers=headers).json()\n",
        "    summary = response.get(\"quoteSummary\", {}).get(\"result\", [{}])[0]\n",
        "    data = {\n",
        "        '52 Week High': summary.get(\"summaryDetail\", {}).get(\"fiftyTwoWeekHigh\", {}).get(\"raw\", 'Unavailable'),\n",
        "        '52 Week Low': summary.get(\"summaryDetail\", {}).get(\"fiftyTwoWeekLow\", {}).get(\"raw\", 'Unavailable'),\n",
        "        'Return on Assets': summary.get(\"financialData\", {}).get(\"returnOnAssets\", {}).get(\"raw\", 'Unavailable')\n",
        "    }\n",
        "    return pd.DataFrame([data])\n",
        "\n",
        "def get_trending_stocks(api_key):\n",
        "    url = \"https://yfapi.net/v1/finance/trending/US\"\n",
        "    headers = {\"x-api-key\": api_key}\n",
        "    response = requests.get(url, headers=headers).json()\n",
        "    trending_symbols = [item[\"symbol\"] for item in response.get(\"finance\", {}).get(\"result\", [{}])[0].get(\"quotes\", [])]\n",
        "    trending_data = get_stock_data(trending_symbols, api_key)\n",
        "    return pd.DataFrame(trending_data)\n",
        "\n",
        "if __name__ == \"__main__\":\n",
        "    api_key = input(\"Enter your Yahoo Finance API key: \")\n",
        "\n",
        "    symbols = input(\"Enter stock symbols separated by commas: \").split(',')\n",
        "    stock_data = get_stock_data(symbols, api_key)\n",
        "    for stock in stock_data:\n",
        "        print(f\"Stock Ticker: {stock['Stock Ticker']}, Company: {stock['Company']}, Current Market Price: ${stock['Current Market Price']}\")\n",
        "\n",
        "    symbol = input(\"Enter a stock symbol to fetch additional data: \")\n",
        "    module = input(\"Choose a module (summaryDetail, financialData): \")\n",
        "    df = get_additional_data(symbol, module, api_key)\n",
        "    print(\"\\nAdditional Data:\")\n",
        "    print(df)\n",
        "\n",
        "    trending_stocks = get_trending_stocks(api_key)\n",
        "    print(\"\\nTrending Stocks:\")\n",
        "    print(trending_stocks)\n"
      ]
    }
  ]
}