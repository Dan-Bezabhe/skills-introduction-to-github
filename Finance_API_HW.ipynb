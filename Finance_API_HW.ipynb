{
  "nbformat": 4,
  "nbformat_minor": 0,
  "metadata": {
    "colab": {
      "provenance": []
    },
    "kernelspec": {
      "name": "python3",
      "display_name": "Python 3"
    },
    "language_info": {
      "name": "python"
    }
  },
  "cells": [
    {
      "cell_type": "code",
      "execution_count": 17,
      "metadata": {
        "colab": {
          "base_uri": "https://localhost:8080/",
          "height": 382
        },
        "id": "JjoSIqALU7KJ",
        "outputId": "4f7c51fc-7139-4c05-e705-222acd1e7b73"
      },
      "outputs": [
        {
          "metadata": {
            "tags": null
          },
          "name": "stdout",
          "output_type": "stream",
          "text": [
            "Stock Ticker: AAPL, Company: Unavailable, Current Market Price: $Unavailable\n"
          ]
        },
        {
          "output_type": "error",
          "ename": "KeyboardInterrupt",
          "evalue": "Interrupted by user",
          "traceback": [
            "\u001b[0;31m---------------------------------------------------------------------------\u001b[0m",
            "\u001b[0;31mKeyboardInterrupt\u001b[0m                         Traceback (most recent call last)",
            "\u001b[0;32m<ipython-input-17-57eb52596cc2>\u001b[0m in \u001b[0;36m<cell line: 0>\u001b[0;34m()\u001b[0m\n\u001b[1;32m     45\u001b[0m         \u001b[0mprint\u001b[0m\u001b[0;34m(\u001b[0m\u001b[0;34mf\"Stock Ticker: {stock['Stock Ticker']}, Company: {stock['Company']}, Current Market Price: ${stock['Current Market Price']}\"\u001b[0m\u001b[0;34m)\u001b[0m\u001b[0;34m\u001b[0m\u001b[0;34m\u001b[0m\u001b[0m\n\u001b[1;32m     46\u001b[0m \u001b[0;34m\u001b[0m\u001b[0m\n\u001b[0;32m---> 47\u001b[0;31m     \u001b[0msymbol\u001b[0m \u001b[0;34m=\u001b[0m \u001b[0minput\u001b[0m\u001b[0;34m(\u001b[0m\u001b[0;34m\"Enter a stock symbol to fetch additional data: \"\u001b[0m\u001b[0;34m)\u001b[0m\u001b[0;34m\u001b[0m\u001b[0;34m\u001b[0m\u001b[0m\n\u001b[0m\u001b[1;32m     48\u001b[0m     \u001b[0mmodule\u001b[0m \u001b[0;34m=\u001b[0m \u001b[0minput\u001b[0m\u001b[0;34m(\u001b[0m\u001b[0;34m\"Choose a module (summaryDetail, financialData): \"\u001b[0m\u001b[0;34m)\u001b[0m\u001b[0;34m\u001b[0m\u001b[0;34m\u001b[0m\u001b[0m\n\u001b[1;32m     49\u001b[0m     \u001b[0mdf\u001b[0m \u001b[0;34m=\u001b[0m \u001b[0mget_additional_data\u001b[0m\u001b[0;34m(\u001b[0m\u001b[0msymbol\u001b[0m\u001b[0;34m,\u001b[0m \u001b[0mmodule\u001b[0m\u001b[0;34m,\u001b[0m \u001b[0mapi_key\u001b[0m\u001b[0;34m)\u001b[0m\u001b[0;34m\u001b[0m\u001b[0;34m\u001b[0m\u001b[0m\n",
            "\u001b[0;32m/usr/local/lib/python3.11/dist-packages/ipykernel/kernelbase.py\u001b[0m in \u001b[0;36mraw_input\u001b[0;34m(self, prompt)\u001b[0m\n\u001b[1;32m   1175\u001b[0m                 \u001b[0;34m\"raw_input was called, but this frontend does not support input requests.\"\u001b[0m\u001b[0;34m\u001b[0m\u001b[0;34m\u001b[0m\u001b[0m\n\u001b[1;32m   1176\u001b[0m             )\n\u001b[0;32m-> 1177\u001b[0;31m         return self._input_request(\n\u001b[0m\u001b[1;32m   1178\u001b[0m             \u001b[0mstr\u001b[0m\u001b[0;34m(\u001b[0m\u001b[0mprompt\u001b[0m\u001b[0;34m)\u001b[0m\u001b[0;34m,\u001b[0m\u001b[0;34m\u001b[0m\u001b[0;34m\u001b[0m\u001b[0m\n\u001b[1;32m   1179\u001b[0m             \u001b[0mself\u001b[0m\u001b[0;34m.\u001b[0m\u001b[0m_parent_ident\u001b[0m\u001b[0;34m[\u001b[0m\u001b[0;34m\"shell\"\u001b[0m\u001b[0;34m]\u001b[0m\u001b[0;34m,\u001b[0m\u001b[0;34m\u001b[0m\u001b[0;34m\u001b[0m\u001b[0m\n",
            "\u001b[0;32m/usr/local/lib/python3.11/dist-packages/ipykernel/kernelbase.py\u001b[0m in \u001b[0;36m_input_request\u001b[0;34m(self, prompt, ident, parent, password)\u001b[0m\n\u001b[1;32m   1217\u001b[0m             \u001b[0;32mexcept\u001b[0m \u001b[0mKeyboardInterrupt\u001b[0m\u001b[0;34m:\u001b[0m\u001b[0;34m\u001b[0m\u001b[0;34m\u001b[0m\u001b[0m\n\u001b[1;32m   1218\u001b[0m                 \u001b[0;31m# re-raise KeyboardInterrupt, to truncate traceback\u001b[0m\u001b[0;34m\u001b[0m\u001b[0;34m\u001b[0m\u001b[0m\n\u001b[0;32m-> 1219\u001b[0;31m                 \u001b[0;32mraise\u001b[0m \u001b[0mKeyboardInterrupt\u001b[0m\u001b[0;34m(\u001b[0m\u001b[0;34m\"Interrupted by user\"\u001b[0m\u001b[0;34m)\u001b[0m \u001b[0;32mfrom\u001b[0m \u001b[0;32mNone\u001b[0m\u001b[0;34m\u001b[0m\u001b[0;34m\u001b[0m\u001b[0m\n\u001b[0m\u001b[1;32m   1220\u001b[0m             \u001b[0;32mexcept\u001b[0m \u001b[0mException\u001b[0m\u001b[0;34m:\u001b[0m\u001b[0;34m\u001b[0m\u001b[0;34m\u001b[0m\u001b[0m\n\u001b[1;32m   1221\u001b[0m                 \u001b[0mself\u001b[0m\u001b[0;34m.\u001b[0m\u001b[0mlog\u001b[0m\u001b[0;34m.\u001b[0m\u001b[0mwarning\u001b[0m\u001b[0;34m(\u001b[0m\u001b[0;34m\"Invalid Message:\"\u001b[0m\u001b[0;34m,\u001b[0m \u001b[0mexc_info\u001b[0m\u001b[0;34m=\u001b[0m\u001b[0;32mTrue\u001b[0m\u001b[0;34m)\u001b[0m\u001b[0;34m\u001b[0m\u001b[0;34m\u001b[0m\u001b[0m\n",
            "\u001b[0;31mKeyboardInterrupt\u001b[0m: Interrupted by user"
          ]
        }
      ],
      "source": [
        "import requests\n",
        "import pandas as pd\n",
        "import json\n",
        "\n",
        "def get_stock_data(symbols, api_key):\n",
        "    stock_data = []\n",
        "    for symbol in symbols:\n",
        "        url = f\"https://yfapi.net/v6/finance/quote?symbols={symbol}\"\n",
        "        headers = {\"x-api-key\": api_key}\n",
        "        response = requests.get(url, headers=headers).json()\n",
        "        quote = response.get(\"quoteResponse\", {}).get(\"result\", [{}])[0]\n",
        "        stock_data.append({\n",
        "            'Stock Ticker': symbol,\n",
        "            'Company': quote.get('longName', 'Unavailable'),\n",
        "            'Current Market Price': quote.get('regularMarketPrice', 'Unavailable')\n",
        "        })\n",
        "    return stock_data\n",
        "\n",
        "def get_additional_data(symbol, module, api_key):\n",
        "    url = f\"https://yfapi.net/v11/finance/quoteSummary/{symbol}?modules={module}\"\n",
        "    headers = {\"x-api-key\": api_key}\n",
        "    response = requests.get(url, headers=headers).json()\n",
        "    summary = response.get(\"quoteSummary\", {}).get(\"result\", [{}])[0]\n",
        "    data = {\n",
        "        '52 Week High': summary.get(\"summaryDetail\", {}).get(\"fiftyTwoWeekHigh\", {}).get(\"raw\", 'Unavailable'),\n",
        "        '52 Week Low': summary.get(\"summaryDetail\", {}).get(\"fiftyTwoWeekLow\", {}).get(\"raw\", 'Unavailable'),\n",
        "        'Return on Assets': summary.get(\"financialData\", {}).get(\"returnOnAssets\", {}).get(\"raw\", 'Unavailable')\n",
        "    }\n",
        "    return pd.DataFrame([data])\n",
        "\n",
        "def get_trending_stocks(api_key):\n",
        "    url = \"https://yfapi.net/v1/finance/trending/US\"\n",
        "    headers = {\"x-api-key\": api_key}\n",
        "    response = requests.get(url, headers=headers).json()\n",
        "    trending_symbols = [item[\"symbol\"] for item in response.get(\"finance\", {}).get(\"result\", [{}])[0].get(\"quotes\", [])]\n",
        "    trending_data = get_stock_data(trending_symbols, api_key)\n",
        "    return pd.DataFrame(trending_data)\n",
        "\n",
        "if __name__ == \"__main__\":\n",
        "    api_key = input(\"Enter your Yahoo Finance API key: \")\n",
        "\n",
        "    symbols = input(\"Enter stock symbols separated by commas: \").split(',')\n",
        "    stock_data = get_stock_data(symbols, api_key)\n",
        "    for stock in stock_data:\n",
        "        print(f\"Stock Ticker: {stock['Stock Ticker']}, Company: {stock['Company']}, Current Market Price: ${stock['Current Market Price']}\")\n",
        "\n",
        "    symbol = input(\"Enter a stock symbol to fetch additional data: \")\n",
        "    module = input(\"Choose a module (summaryDetail, financialData): \")\n",
        "    df = get_additional_data(symbol, module, api_key)\n",
        "    print(\"\\nAdditional Data:\")\n",
        "    print(df)\n",
        "\n",
        "    trending_stocks = get_trending_stocks(api_key)\n",
        "    print(\"\\nTrending Stocks:\")\n",
        "    print(trending_stocks)\n"
      ]
    }
  ]
}